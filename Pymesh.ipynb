{
  "nbformat": 4,
  "nbformat_minor": 0,
  "metadata": {
    "colab": {
      "provenance": [],
      "authorship_tag": "ABX9TyPkeX1xrYQHz7IkJp6/puVr",
      "include_colab_link": true
    },
    "kernelspec": {
      "name": "python3",
      "display_name": "Python 3"
    },
    "language_info": {
      "name": "python"
    }
  },
  "cells": [
    {
      "cell_type": "markdown",
      "metadata": {
        "id": "view-in-github",
        "colab_type": "text"
      },
      "source": [
        "<a href=\"https://colab.research.google.com/github/ZiadMotagaly/photogram/blob/main/Pymesh.ipynb\" target=\"_parent\"><img src=\"https://colab.research.google.com/assets/colab-badge.svg\" alt=\"Open In Colab\"/></a>"
      ]
    },
    {
      "cell_type": "code",
      "execution_count": null,
      "metadata": {
        "colab": {
          "base_uri": "https://localhost:8080/"
        },
        "id": "_E9FVqwZmbyp",
        "outputId": "f67ce143-65cc-4565-eced-5ae1f479c407"
      },
      "outputs": [
        {
          "output_type": "stream",
          "name": "stdout",
          "text": [
            "Looking in indexes: https://pypi.org/simple, https://us-python.pkg.dev/colab-wheels/public/simple/\n",
            "Collecting pymeshlab\n",
            "  Downloading pymeshlab-2022.2.post2-cp37-cp37m-manylinux1_x86_64.whl (56.6 MB)\n",
            "\u001b[K     |████████████████████████████████| 56.6 MB 123 kB/s \n",
            "\u001b[?25hRequirement already satisfied: numpy in /usr/local/lib/python3.7/dist-packages (from pymeshlab) (1.21.6)\n",
            "Installing collected packages: pymeshlab\n",
            "Successfully installed pymeshlab-2022.2.post2\n"
          ]
        }
      ],
      "source": [
        "!pip install pymeshlab"
      ]
    },
    {
      "cell_type": "code",
      "source": [
        "import pymeshlab"
      ],
      "metadata": {
        "id": "zDnlOizem3x6"
      },
      "execution_count": null,
      "outputs": []
    },
    {
      "cell_type": "code",
      "source": [
        "!wget https://graphics.stanford.edu/~mdfisher/Data/Meshes/bunny.obj"
      ],
      "metadata": {
        "colab": {
          "base_uri": "https://localhost:8080/"
        },
        "id": "tITBx73cm3fy",
        "outputId": "2a3e4428-2d6a-4a1e-9161-4878f1c6fbb8"
      },
      "execution_count": null,
      "outputs": [
        {
          "output_type": "stream",
          "name": "stdout",
          "text": [
            "--2022-11-21 14:36:26--  https://graphics.stanford.edu/~mdfisher/Data/Meshes/bunny.obj\n",
            "Resolving graphics.stanford.edu (graphics.stanford.edu)... 171.67.77.70\n",
            "Connecting to graphics.stanford.edu (graphics.stanford.edu)|171.67.77.70|:443... connected.\n",
            "HTTP request sent, awaiting response... 200 OK\n",
            "Length: 205917 (201K) [text/plain]\n",
            "Saving to: ‘bunny.obj’\n",
            "\n",
            "bunny.obj           100%[===================>] 201.09K   605KB/s    in 0.3s    \n",
            "\n",
            "2022-11-21 14:36:27 (605 KB/s) - ‘bunny.obj’ saved [205917/205917]\n",
            "\n"
          ]
        }
      ]
    },
    {
      "cell_type": "code",
      "source": [
        "ms = pymeshlab.MeshSet()\n",
        "\n",
        "ms.load_new_mesh('bunny.obj')\n",
        "color1= pymeshlab.Color(255,0,0)\n",
        "Percentage = pymeshlab.Percentage(10)\n",
        "#https://pymeshlab.readthedocs.io/en/latest/filter_list.html#filter-documentation\n",
        "\n",
        "# I put all the filters i used here in one script. I applied them one by one, hence uncommenting them seperately.\n",
        "\n",
        "ms.apply_filter('set_color_per_vertex', color1 = color1)\n",
        "\n",
        "#ms.apply_filter('meshing_decimation_clustering', threshold = Percentage)\n",
        "#ms.apply_filter('generate_sampling_texel', threshold = Percentage)\n",
        "\n",
        "\n",
        "ms.save_current_mesh('output-bunny.obj')"
      ],
      "metadata": {
        "id": "ibs75JnKnNe1"
      },
      "execution_count": null,
      "outputs": []
    },
    {
      "cell_type": "markdown",
      "source": [],
      "metadata": {
        "id": "LBE8Ha9fn7yi"
      }
    }
  ]
}