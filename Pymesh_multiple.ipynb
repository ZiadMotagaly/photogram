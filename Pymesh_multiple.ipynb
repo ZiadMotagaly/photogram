{
  "nbformat": 4,
  "nbformat_minor": 0,
  "metadata": {
    "colab": {
      "provenance": [],
      "authorship_tag": "ABX9TyPxk9OO7XdoTfkJaqfeOus/",
      "include_colab_link": true
    },
    "kernelspec": {
      "name": "python3",
      "display_name": "Python 3"
    },
    "language_info": {
      "name": "python"
    }
  },
  "cells": [
    {
      "cell_type": "markdown",
      "metadata": {
        "id": "view-in-github",
        "colab_type": "text"
      },
      "source": [
        "<a href=\"https://colab.research.google.com/github/ZiadMotagaly/photogram/blob/main/Pymesh_multiple.ipynb\" target=\"_parent\"><img src=\"https://colab.research.google.com/assets/colab-badge.svg\" alt=\"Open In Colab\"/></a>"
      ]
    },
    {
      "cell_type": "code",
      "execution_count": null,
      "metadata": {
        "colab": {
          "base_uri": "https://localhost:8080/"
        },
        "id": "1cFs7yVzzZPq",
        "outputId": "cb1618f7-3019-4819-85df-124349b54186"
      },
      "outputs": [
        {
          "output_type": "stream",
          "name": "stdout",
          "text": [
            "Mounted at /content/drive\n"
          ]
        }
      ],
      "source": [
        "from google.colab import drive\n",
        "drive.mount('/content/drive')"
      ]
    },
    {
      "cell_type": "code",
      "source": [
        "!pip install pymeshlab"
      ],
      "metadata": {
        "colab": {
          "base_uri": "https://localhost:8080/"
        },
        "id": "FJGQZFD41hfN",
        "outputId": "46c772f4-3a2a-4daa-e602-a7c1506a60f4"
      },
      "execution_count": null,
      "outputs": [
        {
          "output_type": "stream",
          "name": "stdout",
          "text": [
            "Looking in indexes: https://pypi.org/simple, https://us-python.pkg.dev/colab-wheels/public/simple/\n",
            "Collecting pymeshlab\n",
            "  Downloading pymeshlab-2022.2.post2-cp37-cp37m-manylinux1_x86_64.whl (56.6 MB)\n",
            "\u001b[K     |████████████████████████████████| 56.6 MB 1.2 MB/s \n",
            "\u001b[?25hRequirement already satisfied: numpy in /usr/local/lib/python3.7/dist-packages (from pymeshlab) (1.21.6)\n",
            "Installing collected packages: pymeshlab\n",
            "Successfully installed pymeshlab-2022.2.post2\n"
          ]
        }
      ]
    },
    {
      "cell_type": "markdown",
      "source": [],
      "metadata": {
        "id": "A4ujPxQX1hMN"
      }
    },
    {
      "cell_type": "code",
      "source": [
        "import os\n",
        "import glob\n",
        "import sys\n",
        "import pymeshlab as ml"
      ],
      "metadata": {
        "id": "7JBOu-Btz2mJ"
      },
      "execution_count": null,
      "outputs": []
    },
    {
      "cell_type": "code",
      "source": [
        "import os\n",
        "import glob\n",
        "import sys\n",
        "output_dir = '/content/drive/MyDrive/Models'\n",
        "filename = glob.glob(os.path.join(\"/content\",\"*obj\"))\n",
        "print(filename)\n",
        "if sys.argv[1] == output_dir :\n",
        "  print(\"input and output folders are the same, choose a different one\")\n",
        "  sys.exit(-1)\n",
        "if not os.path.exists(output_dir):\n",
        "  os.makedirs(output_dir)\n",
        "for inp in filename :\n",
        "  ms=ml.MeshSet()\n",
        "  print(inp)\n",
        "  filename=os.path.basename(inp)\n",
        "  output_file_name = os.path.join(output_dir,filename[:-4]+\"_new.obj\")\n",
        "  if not os.path.exists(output_dir):\n",
        "    os.mkdir(output_dir)\n",
        "  print(output_file_name)\n",
        "  ms.load_new_mesh(inp)\n",
        "  color1= ml.Color(255,0,0)\n",
        "  ms.apply_filter('set_color_per_vertex',color1=color1)\n",
        "\n",
        "  ms.apply_filter('parametrization_trivial_per_triangle',sidedim=0, textdim = 4096, border = 2, method =1)\n",
        "  ms.apply_filter('transfer_vertex_attributes_to_texture_1_or_2_meshes', sourcemesh=0, targetmesh = 0)\n",
        "  ms.save_current_mesh(output_file_name,save_face_color=True)"
      ],
      "metadata": {
        "colab": {
          "base_uri": "https://localhost:8080/"
        },
        "id": "y_m1n7R-z2oB",
        "outputId": "da288335-718d-434b-9771-9b7c95769c66"
      },
      "execution_count": null,
      "outputs": [
        {
          "output_type": "stream",
          "name": "stdout",
          "text": [
            "['/content/cube.obj', '/content/dragon.obj']\n",
            "/content/cube.obj\n",
            "/content/drive/MyDrive/Models/cube_new.obj\n"
          ]
        },
        {
          "output_type": "stream",
          "name": "stderr",
          "text": [
            "/usr/local/lib/python3.7/dist-packages/ipykernel_launcher.py:24: UserWarning: Deprecated Filter Warning: You should use 'compute_texcoord_parametrization_triangle_trivial_per_wedge' instead of 'parametrization_trivial_per_triangle'. See https://pymeshlab.readthedocs.io/en/latest/index.html#filters-renaming\n",
            "/usr/local/lib/python3.7/dist-packages/ipykernel_launcher.py:25: UserWarning: Deprecated Filter Warning: You should use 'transfer_attributes_to_texture_per_vertex' instead of 'transfer_vertex_attributes_to_texture_1_or_2_meshes'. See https://pymeshlab.readthedocs.io/en/latest/index.html#filters-renaming\n"
          ]
        },
        {
          "output_type": "stream",
          "name": "stdout",
          "text": [
            "/content/dragon.obj\n",
            "/content/drive/MyDrive/Models/dragon_new.obj\n"
          ]
        }
      ]
    },
    {
      "cell_type": "code",
      "source": [],
      "metadata": {
        "id": "nu0uHL-Tz2rZ"
      },
      "execution_count": null,
      "outputs": []
    },
    {
      "cell_type": "code",
      "source": [],
      "metadata": {
        "id": "nIIm_h4Wz2uh"
      },
      "execution_count": null,
      "outputs": []
    },
    {
      "cell_type": "code",
      "source": [],
      "metadata": {
        "id": "8zhocqTOz2xx"
      },
      "execution_count": null,
      "outputs": []
    }
  ]
}